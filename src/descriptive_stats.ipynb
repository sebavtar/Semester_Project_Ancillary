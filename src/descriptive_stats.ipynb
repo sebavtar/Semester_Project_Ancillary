{
 "cells": [
  {
   "cell_type": "markdown",
   "metadata": {},
   "source": [
    "## Descriptive Statistics"
   ]
  },
  {
   "cell_type": "code",
   "execution_count": null,
   "metadata": {},
   "outputs": [],
   "source": [
    "import pandas as pd\n",
    "from scipy.stats import skew, kurtosis\n",
    "\n",
    "cols = [\n",
    "    'Price_negative_secondary',\n",
    "    'Price_negative_tertiary',\n",
    "    'Price_positive_secondary',\n",
    "    'Price_positive_tertiary'\n",
    "]\n",
    "\n",
    "df = pd.read_csv('data/df_2022_2024.csv')\n",
    "\n",
    "stats_df = pd.DataFrame({\n",
    "    'statistic': [\n",
    "        'mean',\n",
    "        'median',\n",
    "        'std',\n",
    "        'min',\n",
    "        'max',\n",
    "        '95th percentile',\n",
    "        '5th percentile',\n",
    "        'skewness',\n",
    "        'kurtosis'\n",
    "    ]\n",
    "})\n",
    "for col in cols:\n",
    "    stats_df[col] = [\n",
    "        df[col].mean(),\n",
    "        df[col].median(),\n",
    "        df[col].std(),\n",
    "        df[col].min(),\n",
    "        df[col].max(),\n",
    "        df[col].quantile(0.95),\n",
    "        df[col].quantile(0.05),\n",
    "        df[col].skew(),\n",
    "        df[col].kurt()\n",
    "    ]\n",
    "stats_df\n",
    "\n",
    "autocorr = {c: df[c].corr(df[c].shift(1)) for c in cols}\n",
    "autocorr_df = pd.DataFrame.from_dict(autocorr, orient='index', columns=['lag_1_autocorr'])\n",
    "autocorr_df\n"
   ]
  },
  {
   "cell_type": "markdown",
   "metadata": {},
   "source": [
    "## Model Comparison"
   ]
  }
 ],
 "metadata": {},
 "nbformat": 4,
 "nbformat_minor": 5
}
